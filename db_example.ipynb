{
 "cells": [
  {
   "cell_type": "code",
   "execution_count": 1,
   "metadata": {},
   "outputs": [],
   "source": [
    "from __future__ import annotations\n",
    "from pathlib import Path\n",
    "import importlib\n",
    "from types import TracebackType\n",
    "\n",
    "import pandas as pd\n",
    "import psycopg2\n",
    "import yaml\n",
    "\n",
    "from base import BaseRecord\n",
    "\n",
    "CONFIG_PATHS = [path for path in Path('configs').iterdir() if path.is_file() and path.suffix == '.yaml']\n",
    "path = CONFIG_PATHS[0]\n",
    "platform_name = path.stem\n",
    "with open(path, mode='r') as fp:\n",
    "    platform_config = yaml.safe_load(fp)\n",
    "platform = importlib.import_module(platform_name)"
   ]
  },
  {
   "cell_type": "code",
   "execution_count": 4,
   "metadata": {},
   "outputs": [],
   "source": [
    "class DbConnector:\n",
    "    SCHEMA_NAME = 'shopping_alert'\n",
    "    DB_CREDENTIALS = {\n",
    "        'dbname': 'shopping-alert-pg-db',\n",
    "        'user': 'admin',\n",
    "        'password': 'admin',\n",
    "        'host': 'localhost',\n",
    "        'port': 5432\n",
    "    }\n",
    "\n",
    "    def __init__(self) -> None:\n",
    "        self.conn = None\n",
    "\n",
    "    def _init_schema(self) -> None:\n",
    "        cursor = self.conn.cursor()\n",
    "        cursor.execute(f\"CREATE SCHEMA IF NOT EXISTS {self.SCHEMA_NAME}\")\n",
    "        cursor.close()\n",
    "        self.conn.commit()\n",
    "\n",
    "    def _init_table(self) -> None:\n",
    "        pass\n",
    "    \n",
    "    def connect(self) -> None:\n",
    "        self.conn = psycopg2.connect(**self.DB_CREDENTIALS)\n",
    "        self._init_schema()\n",
    "    \n",
    "    def close(self) -> None:\n",
    "        self.conn.close()\n",
    "        self.conn = None\n",
    "    \n",
    "    def __enter__(self) -> DbConnector:\n",
    "        self.connect()\n",
    "        return self\n",
    "    \n",
    "    def __exit__(\n",
    "        self,\n",
    "        exc_type: type[BaseException] | None,\n",
    "        exc_value: BaseException | None,\n",
    "        exc_traceback: TracebackType | None,\n",
    "    ) -> None:\n",
    "        self.close()"
   ]
  },
  {
   "cell_type": "code",
   "execution_count": null,
   "metadata": {},
   "outputs": [],
   "source": []
  },
  {
   "cell_type": "code",
   "execution_count": null,
   "metadata": {},
   "outputs": [],
   "source": []
  },
  {
   "cell_type": "code",
   "execution_count": null,
   "metadata": {},
   "outputs": [],
   "source": []
  },
  {
   "cell_type": "code",
   "execution_count": 1,
   "metadata": {},
   "outputs": [],
   "source": [
    "from base import BaseRecord\n",
    "import runway\n",
    "\n",
    "schema_name = 'shopping_alert'\n",
    "table_name = 'runway'\n",
    "record_type = runway.Record"
   ]
  },
  {
   "cell_type": "code",
   "execution_count": 30,
   "metadata": {},
   "outputs": [],
   "source": [
    "def _init_table(schema_name: str, table_name: str, record_type: type[BaseRecord]) -> str:\n",
    "    # Make use of `record_type.get_db_table_dtypes()` and `record_type.get_db_index()`\n",
    "    # Construct a string that looks like\n",
    "    # CREATE TABLE schema_name.table_name (\n",
    "    #     item_id TEXT NOT NULL,\n",
    "    #     ...\n",
    "    # );\n",
    "    # CREATE INDEX item_id ON schema_name.table_name(item_id);\n",
    "    # ...\n",
    "    table_dict = record_type.get_db_table_dtypes()\n",
    "    content_lst = []\n",
    "    for i in table_dict.items():\n",
    "        content = i[0] +' ' + i[1]\n",
    "        content_lst.append(content)\n",
    "    table = schema_name + '.' + table_name\n",
    "    query = f'CREATE TABLE {table}('\n",
    "    for content in content_lst:\n",
    "        query += content + ', '\n",
    "    query_final = query[:-2] + ');'\n",
    "\n",
    "    index_dict = record_type.get_db_index()\n",
    "    index_query = ''\n",
    "    for i in index_dict.items():\n",
    "        index_query += f'CREATE INDEX {i[0]} ON {table}({i[1]});'\n",
    "          \n",
    "    return query_final, index_query\n"
   ]
  },
  {
   "cell_type": "code",
   "execution_count": 31,
   "metadata": {},
   "outputs": [
    {
     "data": {
      "text/plain": [
       "('CREATE TABLE shopping_alert.runway(item_id TEXT NOT NULL, name TEXT NOT NULL, brand TEXT NOT NULL, price_original DOUBLE PRECISION NOT NULL, price_current DOUBLE PRECISION NOT NULL, price_currency TEXT NOT NULL, color TEXT NOT NULL, size TEXT NOT NULL, is_available BOOLEAN NOT NULL, unit_left DOUBLE PRECISION, asof TIMESTAMP WITH TIME ZONE NOT NULL, url TEXT NOT NULL, PRIMARY KEY (item_id, color, size, asof));',\n",
       " 'CREATE INDEX item_id ON shopping_alert.runway(item_id);CREATE INDEX color ON shopping_alert.runway(color);CREATE INDEX size ON shopping_alert.runway(size);CREATE INDEX asof ON shopping_alert.runway(asof);CREATE INDEX item_id_asof ON shopping_alert.runway(item_id, asof);')"
      ]
     },
     "execution_count": 31,
     "metadata": {},
     "output_type": "execute_result"
    }
   ],
   "source": [
    "_init_table(schema_name, table_name, record_type)"
   ]
  },
  {
   "cell_type": "code",
   "execution_count": 9,
   "metadata": {},
   "outputs": [
    {
     "data": {
      "text/plain": [
       "{'item_id': 'TEXT NOT NULL',\n",
       " 'name': 'TEXT NOT NULL',\n",
       " 'brand': 'TEXT NOT NULL',\n",
       " 'price_original': 'DOUBLE PRECISION NOT NULL',\n",
       " 'price_current': 'DOUBLE PRECISION NOT NULL',\n",
       " 'price_currency': 'TEXT NOT NULL',\n",
       " 'color': 'TEXT NOT NULL',\n",
       " 'size': 'TEXT NOT NULL',\n",
       " 'is_available': 'BOOLEAN NOT NULL',\n",
       " 'unit_left': 'DOUBLE PRECISION',\n",
       " 'asof': 'TIMESTAMP WITH TIME ZONE NOT NULL',\n",
       " 'url': 'TEXT NOT NULL',\n",
       " 'PRIMARY KEY': '(item_id, color, size, asof)'}"
      ]
     },
     "execution_count": 9,
     "metadata": {},
     "output_type": "execute_result"
    }
   ],
   "source": [
    "record_type.get_db_table_dtypes()"
   ]
  },
  {
   "cell_type": "code",
   "execution_count": 8,
   "metadata": {},
   "outputs": [
    {
     "data": {
      "text/plain": [
       "{'item_id': 'item_id',\n",
       " 'color': 'color',\n",
       " 'size': 'size',\n",
       " 'asof': 'asof',\n",
       " 'item_id_asof': 'item_id, asof'}"
      ]
     },
     "execution_count": 8,
     "metadata": {},
     "output_type": "execute_result"
    }
   ],
   "source": [
    "record_type.get_db_index()"
   ]
  },
  {
   "cell_type": "code",
   "execution_count": null,
   "metadata": {},
   "outputs": [],
   "source": []
  }
 ],
 "metadata": {
  "kernelspec": {
   "display_name": "shopping-alert",
   "language": "python",
   "name": "python3"
  },
  "language_info": {
   "codemirror_mode": {
    "name": "ipython",
    "version": 3
   },
   "file_extension": ".py",
   "mimetype": "text/x-python",
   "name": "python",
   "nbconvert_exporter": "python",
   "pygments_lexer": "ipython3",
   "version": "3.12.7"
  }
 },
 "nbformat": 4,
 "nbformat_minor": 2
}
