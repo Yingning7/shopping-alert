{
 "cells": [
  {
   "cell_type": "code",
   "execution_count": 1,
   "metadata": {},
   "outputs": [],
   "source": [
    "from __future__ import annotations\n",
    "from pathlib import Path\n",
    "import importlib\n",
    "from types import TracebackType\n",
    "\n",
    "import pandas as pd\n",
    "import psycopg2\n",
    "import yaml\n",
    "\n",
    "CONFIG_PATHS = [path for path in Path('configs').iterdir() if path.is_file() and path.suffix == '.yaml']\n",
    "path = CONFIG_PATHS[0]\n",
    "platform_name = path.stem\n",
    "with open(path, mode='r') as fp:\n",
    "    platform_config = yaml.safe_load(fp)\n",
    "platform = importlib.import_module(platform_name)"
   ]
  },
  {
   "cell_type": "code",
   "execution_count": null,
   "metadata": {},
   "outputs": [],
   "source": [
    "class DbConnector:\n",
    "    SCHEMA_NAME = 'shopping_alert'\n",
    "    DB_CREDENTIALS = {\n",
    "        'dbname': 'shopping-alert-pg-db',\n",
    "        'user': 'admin',\n",
    "        'password': 'admin',\n",
    "        'host': 'localhost',\n",
    "        'port': 5432\n",
    "    }\n",
    "\n",
    "    def __init__(self) -> None:\n",
    "        self.conn = None\n",
    "\n",
    "    def _init_schema(self) -> None:\n",
    "        cursor = self.conn.cursor()\n",
    "        cursor.execute(f\"CREATE SCHEMA IF NOT EXISTS {self.SCHEMA_NAME}\")\n",
    "        cursor.close\n",
    "        self.conn.commit()\n",
    "\n",
    "    def _init_table(self) -> None:\n",
    "        pass\n",
    "    \n",
    "    def connect(self) -> None:\n",
    "        self.conn = psycopg2.connect(**self.DB_CREDENTIALS)\n",
    "        self._init_schema()\n",
    "    \n",
    "    def close(self) -> None:\n",
    "        self.conn.close()\n",
    "        self.conn = None\n",
    "    \n",
    "    def __enter__(self) -> DbConnector:\n",
    "        self.connect()\n",
    "        return self\n",
    "    \n",
    "    def __exit__(\n",
    "        self,\n",
    "        exc_type: type[BaseException] | None,\n",
    "        exc_value: BaseException | None,\n",
    "        exc_traceback: TracebackType | None,\n",
    "    ) -> None:\n",
    "        self.close()"
   ]
  },
  {
   "cell_type": "code",
   "execution_count": 3,
   "metadata": {},
   "outputs": [],
   "source": [
    "db_conn = DbConnector()\n",
    "db_conn.connect()"
   ]
  },
  {
   "cell_type": "code",
   "execution_count": 5,
   "metadata": {},
   "outputs": [
    {
     "data": {
      "text/plain": [
       "{'item_id': 'TEXT NOT NULL',\n",
       " 'name': 'TEXT NOT NULL',\n",
       " 'brand': 'TEXT NOT NULL',\n",
       " 'price_original': 'DOUBLE PRECISION NOT NULL',\n",
       " 'price_current': 'DOUBLE PRECISION NOT NULL',\n",
       " 'price_currency': 'TEXT NOT NULL',\n",
       " 'color': 'TEXT NOT NULL',\n",
       " 'size': 'TEXT NOT NULL',\n",
       " 'is_available': 'BOOLEAN NOT NULL',\n",
       " 'unit_left': 'DOUBLE PRECISION',\n",
       " 'asof': 'TIMESTAMP WITH TIME ZONE NOT NULL',\n",
       " 'url': 'TEXT NOT NULL',\n",
       " 'PRIMARY KEY': '(item_id, color, size, asof)'}"
      ]
     },
     "execution_count": 5,
     "metadata": {},
     "output_type": "execute_result"
    }
   ],
   "source": [
    "platform.Record.get_db_table_dtypes()"
   ]
  },
  {
   "cell_type": "code",
   "execution_count": 6,
   "metadata": {},
   "outputs": [
    {
     "data": {
      "text/plain": [
       "{'item_id': 'item_id',\n",
       " 'color': 'color',\n",
       " 'size': 'size',\n",
       " 'asof': 'asof',\n",
       " 'item_id_asof': 'item_id, asof'}"
      ]
     },
     "execution_count": 6,
     "metadata": {},
     "output_type": "execute_result"
    }
   ],
   "source": [
    "platform.Record.get_db_index()"
   ]
  },
  {
   "cell_type": "code",
   "execution_count": null,
   "metadata": {},
   "outputs": [],
   "source": []
  }
 ],
 "metadata": {
  "kernelspec": {
   "display_name": "shopping-alert",
   "language": "python",
   "name": "python3"
  },
  "language_info": {
   "codemirror_mode": {
    "name": "ipython",
    "version": 3
   },
   "file_extension": ".py",
   "mimetype": "text/x-python",
   "name": "python",
   "nbconvert_exporter": "python",
   "pygments_lexer": "ipython3",
   "version": "3.12.7"
  }
 },
 "nbformat": 4,
 "nbformat_minor": 2
}
