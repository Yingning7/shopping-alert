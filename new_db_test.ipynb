{
 "cells": [
  {
   "cell_type": "code",
   "execution_count": 1,
   "metadata": {},
   "outputs": [],
   "source": [
    "from pathlib import Path\n",
    "import importlib\n",
    "import logging\n",
    "import pickle\n",
    "\n",
    "import pandas as pd\n",
    "import yaml\n",
    "\n",
    "from base import BaseRecord\n",
    "\n",
    "logging.basicConfig(level=logging.INFO)\n",
    "\n",
    "with open('db.bin', mode='wb') as fp:\n",
    "    pickle.dump({}, fp)"
   ]
  },
  {
   "cell_type": "code",
   "execution_count": 2,
   "metadata": {},
   "outputs": [
    {
     "name": "stderr",
     "output_type": "stream",
     "text": [
      "INFO:root:Scraping at 2024-11-24 21:27:45.056102+00:00 for Item ID: 0024403005.\n",
      "INFO:root:Fetching HTML from https://runway-webstore.com/ap/item/i/m/0024403005.\n",
      "INFO:root:Extracting item information from HTML.\n",
      "INFO:root:Parsing item information to DataFrame.\n"
     ]
    }
   ],
   "source": [
    "path = Path('configs/runway.yaml')\n",
    "platform_name = path.stem\n",
    "with open(path, mode='r') as fp:\n",
    "    platform_config = yaml.safe_load(fp)\n",
    "platform = importlib.import_module(platform_name)\n",
    "\n",
    "platform_config = [platform_config[-1]]  # temp\n",
    "\n",
    "dfs = []\n",
    "for kwargs in platform_config:\n",
    "    try:\n",
    "        dfs.append(platform.Scraper(**kwargs).scrape())\n",
    "    except Exception as error:\n",
    "        logging.error(error)\n",
    "        logging.info(f'Skipping for config: {kwargs}.')\n",
    "new_inventory = pd.concat(dfs, axis=0, ignore_index=True)"
   ]
  },
  {
   "cell_type": "code",
   "execution_count": 3,
   "metadata": {},
   "outputs": [],
   "source": [
    "class DbConnector:\n",
    "    def __init__(self) -> None:\n",
    "        self.db = self._connect()\n",
    "\n",
    "    def _connect(self) -> dict[str, pd.DataFrame]:\n",
    "        with open('db.bin', mode='rb') as fp:\n",
    "            db = pickle.load(fp)\n",
    "        return db\n",
    "    \n",
    "    def _save(self) -> None:\n",
    "        with open('db.bin', mode='wb') as fp:\n",
    "            pickle.dump(self.db, fp)\n",
    "        self.db = self._connect()\n",
    "\n",
    "    def table_exists(self, table_name: str) -> bool:\n",
    "        return table_name in self.db\n",
    "    \n",
    "    def create_table(self, table_name: str, record_type: type[BaseRecord]) -> None:\n",
    "        columns_dtypes = record_type.get_df_dtypes()\n",
    "        self.db[table_name] = pd.DataFrame(columns=list(columns_dtypes)).astype(columns_dtypes)\n",
    "        self._save()"
   ]
  },
  {
   "cell_type": "code",
   "execution_count": 4,
   "metadata": {},
   "outputs": [],
   "source": [
    "db_connector = DbConnector()"
   ]
  },
  {
   "cell_type": "code",
   "execution_count": 5,
   "metadata": {},
   "outputs": [
    {
     "data": {
      "text/plain": [
       "{}"
      ]
     },
     "execution_count": 5,
     "metadata": {},
     "output_type": "execute_result"
    }
   ],
   "source": [
    "db_connector.db"
   ]
  },
  {
   "cell_type": "code",
   "execution_count": 6,
   "metadata": {},
   "outputs": [],
   "source": [
    "if not db_connector.table_exists(platform_name):\n",
    "    db_connector.create_table(platform_name, platform.Record)"
   ]
  },
  {
   "cell_type": "code",
   "execution_count": 9,
   "metadata": {},
   "outputs": [
    {
     "data": {
      "text/plain": [
       "{'runway': Empty DataFrame\n",
       " Columns: [item_id, name, brand, price_original, price_current, price_currency, color, size, is_available, unit_left, asof, url]\n",
       " Index: []}"
      ]
     },
     "execution_count": 9,
     "metadata": {},
     "output_type": "execute_result"
    }
   ],
   "source": [
    "db_connector.db"
   ]
  },
  {
   "cell_type": "code",
   "execution_count": null,
   "metadata": {},
   "outputs": [],
   "source": []
  }
 ],
 "metadata": {
  "kernelspec": {
   "display_name": "shopping-alert",
   "language": "python",
   "name": "python3"
  },
  "language_info": {
   "codemirror_mode": {
    "name": "ipython",
    "version": 3
   },
   "file_extension": ".py",
   "mimetype": "text/x-python",
   "name": "python",
   "nbconvert_exporter": "python",
   "pygments_lexer": "ipython3",
   "version": "3.12.7"
  }
 },
 "nbformat": 4,
 "nbformat_minor": 2
}
