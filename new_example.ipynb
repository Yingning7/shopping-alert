{
 "cells": [
  {
   "cell_type": "code",
   "execution_count": 1,
   "metadata": {},
   "outputs": [],
   "source": [
    "import pandas as pd\n",
    "import numpy as np\n",
    "from runway_new import *\n",
    "from db import *"
   ]
  },
  {
   "cell_type": "code",
   "execution_count": 2,
   "metadata": {},
   "outputs": [],
   "source": [
    "item_id = '0224600001'\n",
    "html = fetch_html(item_id)\n",
    "data = extract_data(html)\n",
    "df = parse_data(item_id, data)"
   ]
  },
  {
   "cell_type": "code",
   "execution_count": 3,
   "metadata": {},
   "outputs": [],
   "source": [
    "init_schema()\n",
    "if not check_table_exists(TABLE_NAME):\n",
    "    create_table(TABLE_NAME, TABLE_DEF, INDEX_DEF)"
   ]
  },
  {
   "cell_type": "code",
   "execution_count": 4,
   "metadata": {},
   "outputs": [
    {
     "data": {
      "text/plain": [
       "\"('0224600001', '【３次追加受注承り中】2WAYカラーレディコート', 'dazzlin', 19800.0, 19800.0, 'JPY', 'アイボリー', 'XS', FALSE, NULL, '2024-12-08 20:08:10.011631+00:00', 'https://runway-webstore.com/ap/item/i/m/0224600001'),\\n('0224600001', '【３次追加受注承り中】2WAYカラーレディコート', 'dazzlin', 19800.0, 19800.0, 'JPY', 'アイボリー', 'S', FALSE, NULL, '2024-12-08 20:08:10.011631+00:00', 'https://runway-webstore.com/ap/item/i/m/0224600001'),\\n('0224600001', '【３次追加受注承り中】2WAYカラーレディコート', 'dazzlin', 19800.0, 19800.0, 'JPY', 'アイボリー', 'M', FALSE, NULL, '2024-12-08 20:08:10.011631+00:00', 'https://runway-webstore.com/ap/item/i/m/0224600001'),\\n('0224600001', '【３次追加受注承り中】2WAYカラーレディコート', 'dazzlin', 19800.0, 19800.0, 'JPY', 'チャコールグレー', 'XS', FALSE, NULL, '2024-12-08 20:08:10.011631+00:00', 'https://runway-webstore.com/ap/item/i/m/0224600001'),\\n('0224600001', '【３次追加受注承り中】2WAYカラーレディコート', 'dazzlin', 19800.0, 19800.0, 'JPY', 'チャコールグレー', 'S', FALSE, NULL, '2024-12-08 20:08:10.011631+00:00', 'https://runway-webstore.com/ap/item/i/m/0224600001'),\\n('0224600001', '【３次追加受注承り中】2WAYカラーレディコート', 'dazzlin', 19800.0, 19800.0, 'JPY', 'チャコールグレー', 'M', FALSE, NULL, '2024-12-08 20:08:10.011631+00:00', 'https://runway-webstore.com/ap/item/i/m/0224600001'),\\n('0224600001', '【３次追加受注承り中】2WAYカラーレディコート', 'dazzlin', 19800.0, 19800.0, 'JPY', 'ブラック', 'XS', FALSE, NULL, '2024-12-08 20:08:10.011631+00:00', 'https://runway-webstore.com/ap/item/i/m/0224600001'),\\n('0224600001', '【３次追加受注承り中】2WAYカラーレディコート', 'dazzlin', 19800.0, 19800.0, 'JPY', 'ブラック', 'S', FALSE, NULL, '2024-12-08 20:08:10.011631+00:00', 'https://runway-webstore.com/ap/item/i/m/0224600001'),\\n('0224600001', '【３次追加受注承り中】2WAYカラーレディコート', 'dazzlin', 19800.0, 19800.0, 'JPY', 'ブラック', 'M', FALSE, NULL, '2024-12-08 20:08:10.011631+00:00', 'https://runway-webstore.com/ap/item/i/m/0224600001'),\\n('0224600001', '【３次追加受注承り中】2WAYカラーレディコート', 'dazzlin', 19800.0, 19800.0, 'JPY', 'ピンク', 'XS', FALSE, NULL, '2024-12-08 20:08:10.011631+00:00', 'https://runway-webstore.com/ap/item/i/m/0224600001'),\\n('0224600001', '【３次追加受注承り中】2WAYカラーレディコート', 'dazzlin', 19800.0, 19800.0, 'JPY', 'ピンク', 'S', FALSE, NULL, '2024-12-08 20:08:10.011631+00:00', 'https://runway-webstore.com/ap/item/i/m/0224600001'),\\n('0224600001', '【３次追加受注承り中】2WAYカラーレディコート', 'dazzlin', 19800.0, 19800.0, 'JPY', 'ピンク', 'M', FALSE, NULL, '2024-12-08 20:08:10.011631+00:00', 'https://runway-webstore.com/ap/item/i/m/0224600001'),\\n('0224600001', '【３次追加受注承り中】2WAYカラーレディコート', 'dazzlin', 19800.0, 19800.0, 'JPY', 'パープル', 'XS', FALSE, NULL, '2024-12-08 20:08:10.011631+00:00', 'https://runway-webstore.com/ap/item/i/m/0224600001'),\\n('0224600001', '【３次追加受注承り中】2WAYカラーレディコート', 'dazzlin', 19800.0, 19800.0, 'JPY', 'パープル', 'S', FALSE, NULL, '2024-12-08 20:08:10.011631+00:00', 'https://runway-webstore.com/ap/item/i/m/0224600001'),\\n('0224600001', '【３次追加受注承り中】2WAYカラーレディコート', 'dazzlin', 19800.0, 19800.0, 'JPY', 'パープル', 'M', FALSE, NULL, '2024-12-08 20:08:10.011631+00:00', 'https://runway-webstore.com/ap/item/i/m/0224600001'),\\n('0224600001', '【３次追加受注承り中】2WAYカラーレディコート', 'dazzlin', 19800.0, 19800.0, 'JPY', 'モカ', 'XS', FALSE, NULL, '2024-12-08 20:08:10.011631+00:00', 'https://runway-webstore.com/ap/item/i/m/0224600001'),\\n('0224600001', '【３次追加受注承り中】2WAYカラーレディコート', 'dazzlin', 19800.0, 19800.0, 'JPY', 'モカ', 'S', FALSE, NULL, '2024-12-08 20:08:10.011631+00:00', 'https://runway-webstore.com/ap/item/i/m/0224600001'),\\n('0224600001', '【３次追加受注承り中】2WAYカラーレディコート', 'dazzlin', 19800.0, 19800.0, 'JPY', 'モカ', 'M', TRUE, 2.0, '2024-12-08 20:08:10.011631+00:00', 'https://runway-webstore.com/ap/item/i/m/0224600001');\""
      ]
     },
     "execution_count": 4,
     "metadata": {},
     "output_type": "execute_result"
    }
   ],
   "source": [
    "insert_data(TABLE_NAME, TABLE_DEF, df)"
   ]
  },
  {
   "cell_type": "code",
   "execution_count": 5,
   "metadata": {},
   "outputs": [],
   "source": [
    "query_data(\n",
    "    f\"\"\"\n",
    "    SELECT\n",
    "        *\n",
    "    FROM\n",
    "        {SCHEMA_NAME}.{TABLE_NAME}\n",
    "    \"\"\",\n",
    "    DTYPES\n",
    ")"
   ]
  },
  {
   "cell_type": "code",
   "execution_count": null,
   "metadata": {},
   "outputs": [],
   "source": []
  }
 ],
 "metadata": {
  "kernelspec": {
   "display_name": "shopping-alert",
   "language": "python",
   "name": "python3"
  },
  "language_info": {
   "codemirror_mode": {
    "name": "ipython",
    "version": 3
   },
   "file_extension": ".py",
   "mimetype": "text/x-python",
   "name": "python",
   "nbconvert_exporter": "python",
   "pygments_lexer": "ipython3",
   "version": "3.12.7"
  }
 },
 "nbformat": 4,
 "nbformat_minor": 2
}
