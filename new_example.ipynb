{
 "cells": [
  {
   "cell_type": "code",
   "execution_count": 6,
   "metadata": {},
   "outputs": [],
   "source": [
    "import pandas as pd\n",
    "import numpy as np\n",
    "from runway_new import fetch_html, extract_data, parse_data, TABLE_NAME, TABLE_DEF, INDEX_DEF\n",
    "from db import init_schema, check_table_exists, create_table, SCHEMA_NAME, DB_CREDENTIALS"
   ]
  },
  {
   "cell_type": "code",
   "execution_count": 7,
   "metadata": {},
   "outputs": [],
   "source": [
    "item_id = '0224600001'\n",
    "html = fetch_html(item_id)\n",
    "data = extract_data(html)\n",
    "df = parse_data(item_id, data)"
   ]
  },
  {
   "cell_type": "code",
   "execution_count": 8,
   "metadata": {},
   "outputs": [],
   "source": [
    "init_schema()\n",
    "if not check_table_exists(TABLE_NAME):\n",
    "    create_table(TABLE_NAME, TABLE_DEF, INDEX_DEF)"
   ]
  },
  {
   "cell_type": "code",
   "execution_count": 9,
   "metadata": {},
   "outputs": [],
   "source": [
    "def insert_data(table_name: str, df: pd.DataFrame) -> None:\n",
    "    df = df.replace({np.nan: None})\n",
    "    value_sqls = []\n",
    "    for _, row in df.replace({np.nan: None}).iterrows():\n",
    "        value_sql = []\n",
    "        for col_name, dtype in TABLE_DEF.items():\n",
    "            if col_name.startswith('PRIMARY KEY'):\n",
    "                continue\n",
    "            elif row[col_name] is None:\n",
    "                value_sql.append('NULL')\n",
    "            elif dtype.startswith(('TEXT', 'TIME', 'DATE')):\n",
    "                value_sql.append(f\"'{row[col_name]}'\")\n",
    "            elif dtype.startswith('BOOL'):\n",
    "                value_sql.append(f\"{row[col_name]}\".upper())\n",
    "            else:\n",
    "                value_sql.append(str(row[col_name]))\n",
    "        value_sqls.append('(' + ', '.join(value_sql) + ')')\n",
    "    return ',\\n'.join(value_sqls)"
   ]
  },
  {
   "cell_type": "code",
   "execution_count": 10,
   "metadata": {},
   "outputs": [
    {
     "name": "stdout",
     "output_type": "stream",
     "text": [
      "('0224600001', '【３次追加受注承り中】2WAYカラーレディコート', 'dazzlin', 19800.0, 19800.0, 'JPY', 'アイボリー', 'XS', FALSE, NULL, '2024-12-07 22:47:33.685016+00:00', 'https://runway-webstore.com/ap/item/i/m/0224600001'),\n",
      "('0224600001', '【３次追加受注承り中】2WAYカラーレディコート', 'dazzlin', 19800.0, 19800.0, 'JPY', 'アイボリー', 'S', FALSE, NULL, '2024-12-07 22:47:33.685016+00:00', 'https://runway-webstore.com/ap/item/i/m/0224600001'),\n",
      "('0224600001', '【３次追加受注承り中】2WAYカラーレディコート', 'dazzlin', 19800.0, 19800.0, 'JPY', 'アイボリー', 'M', FALSE, NULL, '2024-12-07 22:47:33.685016+00:00', 'https://runway-webstore.com/ap/item/i/m/0224600001'),\n",
      "('0224600001', '【３次追加受注承り中】2WAYカラーレディコート', 'dazzlin', 19800.0, 19800.0, 'JPY', 'チャコールグレー', 'XS', FALSE, NULL, '2024-12-07 22:47:33.685016+00:00', 'https://runway-webstore.com/ap/item/i/m/0224600001'),\n",
      "('0224600001', '【３次追加受注承り中】2WAYカラーレディコート', 'dazzlin', 19800.0, 19800.0, 'JPY', 'チャコールグレー', 'S', FALSE, NULL, '2024-12-07 22:47:33.685016+00:00', 'https://runway-webstore.com/ap/item/i/m/0224600001'),\n",
      "('0224600001', '【３次追加受注承り中】2WAYカラーレディコート', 'dazzlin', 19800.0, 19800.0, 'JPY', 'チャコールグレー', 'M', FALSE, NULL, '2024-12-07 22:47:33.685016+00:00', 'https://runway-webstore.com/ap/item/i/m/0224600001'),\n",
      "('0224600001', '【３次追加受注承り中】2WAYカラーレディコート', 'dazzlin', 19800.0, 19800.0, 'JPY', 'ブラック', 'XS', FALSE, NULL, '2024-12-07 22:47:33.685016+00:00', 'https://runway-webstore.com/ap/item/i/m/0224600001'),\n",
      "('0224600001', '【３次追加受注承り中】2WAYカラーレディコート', 'dazzlin', 19800.0, 19800.0, 'JPY', 'ブラック', 'S', FALSE, NULL, '2024-12-07 22:47:33.685016+00:00', 'https://runway-webstore.com/ap/item/i/m/0224600001'),\n",
      "('0224600001', '【３次追加受注承り中】2WAYカラーレディコート', 'dazzlin', 19800.0, 19800.0, 'JPY', 'ブラック', 'M', FALSE, NULL, '2024-12-07 22:47:33.685016+00:00', 'https://runway-webstore.com/ap/item/i/m/0224600001'),\n",
      "('0224600001', '【３次追加受注承り中】2WAYカラーレディコート', 'dazzlin', 19800.0, 19800.0, 'JPY', 'ピンク', 'XS', FALSE, NULL, '2024-12-07 22:47:33.685016+00:00', 'https://runway-webstore.com/ap/item/i/m/0224600001'),\n",
      "('0224600001', '【３次追加受注承り中】2WAYカラーレディコート', 'dazzlin', 19800.0, 19800.0, 'JPY', 'ピンク', 'S', FALSE, NULL, '2024-12-07 22:47:33.685016+00:00', 'https://runway-webstore.com/ap/item/i/m/0224600001'),\n",
      "('0224600001', '【３次追加受注承り中】2WAYカラーレディコート', 'dazzlin', 19800.0, 19800.0, 'JPY', 'ピンク', 'M', FALSE, NULL, '2024-12-07 22:47:33.685016+00:00', 'https://runway-webstore.com/ap/item/i/m/0224600001'),\n",
      "('0224600001', '【３次追加受注承り中】2WAYカラーレディコート', 'dazzlin', 19800.0, 19800.0, 'JPY', 'パープル', 'XS', FALSE, NULL, '2024-12-07 22:47:33.685016+00:00', 'https://runway-webstore.com/ap/item/i/m/0224600001'),\n",
      "('0224600001', '【３次追加受注承り中】2WAYカラーレディコート', 'dazzlin', 19800.0, 19800.0, 'JPY', 'パープル', 'S', FALSE, NULL, '2024-12-07 22:47:33.685016+00:00', 'https://runway-webstore.com/ap/item/i/m/0224600001'),\n",
      "('0224600001', '【３次追加受注承り中】2WAYカラーレディコート', 'dazzlin', 19800.0, 19800.0, 'JPY', 'パープル', 'M', FALSE, NULL, '2024-12-07 22:47:33.685016+00:00', 'https://runway-webstore.com/ap/item/i/m/0224600001'),\n",
      "('0224600001', '【３次追加受注承り中】2WAYカラーレディコート', 'dazzlin', 19800.0, 19800.0, 'JPY', 'モカ', 'XS', FALSE, NULL, '2024-12-07 22:47:33.685016+00:00', 'https://runway-webstore.com/ap/item/i/m/0224600001'),\n",
      "('0224600001', '【３次追加受注承り中】2WAYカラーレディコート', 'dazzlin', 19800.0, 19800.0, 'JPY', 'モカ', 'S', TRUE, 2.0, '2024-12-07 22:47:33.685016+00:00', 'https://runway-webstore.com/ap/item/i/m/0224600001'),\n",
      "('0224600001', '【３次追加受注承り中】2WAYカラーレディコート', 'dazzlin', 19800.0, 19800.0, 'JPY', 'モカ', 'M', TRUE, NULL, '2024-12-07 22:47:33.685016+00:00', 'https://runway-webstore.com/ap/item/i/m/0224600001')\n"
     ]
    }
   ],
   "source": [
    "print(insert_data(TABLE_NAME, df))"
   ]
  },
  {
   "cell_type": "code",
   "execution_count": null,
   "metadata": {},
   "outputs": [],
   "source": []
  }
 ],
 "metadata": {
  "kernelspec": {
   "display_name": "shopping-alert",
   "language": "python",
   "name": "python3"
  },
  "language_info": {
   "codemirror_mode": {
    "name": "ipython",
    "version": 3
   },
   "file_extension": ".py",
   "mimetype": "text/x-python",
   "name": "python",
   "nbconvert_exporter": "python",
   "pygments_lexer": "ipython3",
   "version": "3.12.7"
  }
 },
 "nbformat": 4,
 "nbformat_minor": 2
}
