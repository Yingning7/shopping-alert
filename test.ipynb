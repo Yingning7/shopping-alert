{
 "cells": [
  {
   "cell_type": "code",
   "execution_count": 1,
   "metadata": {},
   "outputs": [],
   "source": [
    "from bs4 import BeautifulSoup"
   ]
  },
  {
   "cell_type": "code",
   "execution_count": 2,
   "metadata": {},
   "outputs": [],
   "source": [
    "with open('page.html', 'r', encoding='utf-8') as f:\n",
    "    html_content = f.read()"
   ]
  },
  {
   "cell_type": "code",
   "execution_count": 3,
   "metadata": {},
   "outputs": [],
   "source": [
    "soup = BeautifulSoup(html_content, features='html.parser')"
   ]
  },
  {
   "cell_type": "code",
   "execution_count": 8,
   "metadata": {},
   "outputs": [
    {
     "data": {
      "text/plain": [
       "'MERCURYDUO'"
      ]
     },
     "execution_count": 8,
     "metadata": {},
     "output_type": "execute_result"
    }
   ],
   "source": [
    "brand_div = soup.find('div', {'class': 'p-goods-information-brand-link__label'}).text.strip()\n",
    "brand_div"
   ]
  },
  {
   "cell_type": "code",
   "execution_count": 9,
   "metadata": {},
   "outputs": [
    {
     "data": {
      "text/plain": [
       "'異素材チュールドッキングオフショルニットワンピース'"
      ]
     },
     "execution_count": 9,
     "metadata": {},
     "output_type": "execute_result"
    }
   ],
   "source": [
    "name_div = soup.find('h1', {'class':'p-goods-information__heading'}).text.strip()\n",
    "name_div"
   ]
  },
  {
   "cell_type": "code",
   "execution_count": 15,
   "metadata": {},
   "outputs": [],
   "source": [
    "if soup.find('div', {'class':'p-goods-information__price'}):\n",
    "    original_price = soup.find('div', {'class':'p-goods-information__price'}).text.replace('¥', '').strip()\n",
    "    current_price = original_price\n",
    "else:\n",
    "    original_price = soup.find('span', {'class': 'u-text-style-strike'}).text.replace('¥', '').strip()\n",
    "    current_price = soup.find('div', {'class': 'p-goods-information__price--discount'}).text.replace('¥', '').replace('税込', '').strip()\n"
   ]
  },
  {
   "cell_type": "code",
   "execution_count": 43,
   "metadata": {},
   "outputs": [],
   "source": [
    "color_dl = soup.find_all('dl', {'class': 'p-goods-information-action'})"
   ]
  },
  {
   "cell_type": "code",
   "execution_count": 44,
   "metadata": {},
   "outputs": [
    {
     "data": {
      "text/plain": [
       "[<dl class=\"p-goods-information-action\" data-color-id=\"8\" data-goods-skus=\"group\">\n",
       " <dt class=\"p-goods-information-action__term\">\n",
       " <button class=\"p-goods-add-cart-thumbnail\" data-cart-section-thumbnail=\"\" data-color-id=\"8\" type=\"button\">\n",
       " <img alt=\"MERCURYDUO（マーキュリーデュオ）の「異素材チュールドッキングオフショルニットワンピース（ワンピース）」｜ブラック\" class=\"p-goods-add-cart-thumbnail__image\" data-goods-skus=\"img\" src=\"https://c.imgz.jp/454/88837454/88837454b_8_d_35.jpg\"/>\n",
       " </button>\n",
       " <span class=\"txt p-goods-add-cart__color\">ブラック</span>\n",
       " </dt>\n",
       " <dd class=\"p-goods-information-action__description\">\n",
       " <ul class=\"p-goods-add-cart-list\">\n",
       " <li class=\"p-goods-add-cart-list__item\" data-size=\"S\" data-size-id=\"1\" id=\"cart_did_142436882\"><div class=\"cartbox p-goods-add-cart\">\n",
       " <div class=\"stock p-goods-add-cart__meta\">\n",
       " <p class=\"p-goods-add-cart-stock\"><span>S / </span><span>残り3点</span></p>\n",
       " <p class=\"zozosize\"><span class=\"p-goods-information-gender-icon --women\"><span aria-hidden=\"true\" class=\"c-icon--women\"></span></span><span class=\"sizeZ\"><span>S</span></span>サイズ相当</p></div>\n",
       " <div class=\"cart p-goods-add-cart__action\">\n",
       " <form action=\"/_cart/default.html\" data-ads-inner-tracking=\"goodscartputclick\" data-goods-skus=\"action-cart\" method=\"post\">\n",
       " <input name=\"c\" type=\"hidden\" value=\"put\"/>\n",
       " <input name=\"sid\" type=\"hidden\" value=\"116347333\"/>\n",
       " <input name=\"rid\" type=\"hidden\" value=\"\"/>\n",
       " <input name=\"p_seckey\" type=\"hidden\" value=\"34c4c467450d91b71fa17d6275d0f0a4\"/>\n",
       " <button class=\"c-button --appearance-primary --width-fluid --height-medium\" type=\"submit\">\n",
       " <span class=\"c-button__label-main\">\n",
       " <span class=\"c-button__label-main-icon\">\n",
       " <span aria-hidden=\"true\" class=\"c-icon--cart\"></span>\n",
       " </span>\n",
       " \t\t\t\t\t\t\t\t\t\t\t\t\t\t\tカートに入れる\n",
       " \t\t\t\t\t\t\t\t\t\t\t\t\t\t</span>\n",
       " </button>\n",
       " </form>\n",
       " </div>\n",
       " <div class=\"bkmk p-goods-add-cart__favorite\">\n",
       " <form action=\"#\" data-goods-skus=\"action-favorite\" onsubmit=\"return false;\">\n",
       " <button aria-label=\"お気に入りに追加する\" class=\"p-goods-information-action__favorite\" data-goods-action-favorite=\"unregistered\" type=\"submit\">\n",
       " <span aria-hidden=\"true\" class=\"c-icon--heart\"></span>\n",
       " </button>\n",
       " <input name=\"gid\" type=\"hidden\" value=\"87837454\"/>\n",
       " <input name=\"did\" type=\"hidden\" value=\"142436882\"/>\n",
       " <input name=\"zsids\" type=\"hidden\" value=\"2\"/>\n",
       " </form>\n",
       " </div>\n",
       " </div></li>\n",
       " <li class=\"p-goods-add-cart-list__item\" data-size=\"M\" data-size-id=\"2\" id=\"cart_did_142436883\"><div class=\"cartbox p-goods-add-cart\">\n",
       " <div class=\"stock p-goods-add-cart__meta\">\n",
       " <p class=\"p-goods-add-cart-stock\"><span>M / </span><span>残り3点</span></p>\n",
       " <p class=\"zozosize\"><span class=\"p-goods-information-gender-icon --women\"><span aria-hidden=\"true\" class=\"c-icon--women\"></span></span><span class=\"sizeZ\"><span>M</span></span>サイズ相当</p></div>\n",
       " <div class=\"cart p-goods-add-cart__action\">\n",
       " <form action=\"/_cart/default.html\" data-ads-inner-tracking=\"goodscartputclick\" data-goods-skus=\"action-cart\" method=\"post\">\n",
       " <input name=\"c\" type=\"hidden\" value=\"put\"/>\n",
       " <input name=\"sid\" type=\"hidden\" value=\"116347334\"/>\n",
       " <input name=\"rid\" type=\"hidden\" value=\"\"/>\n",
       " <input name=\"p_seckey\" type=\"hidden\" value=\"34c4c467450d91b71fa17d6275d0f0a4\"/>\n",
       " <button class=\"c-button --appearance-primary --width-fluid --height-medium\" type=\"submit\">\n",
       " <span class=\"c-button__label-main\">\n",
       " <span class=\"c-button__label-main-icon\">\n",
       " <span aria-hidden=\"true\" class=\"c-icon--cart\"></span>\n",
       " </span>\n",
       " \t\t\t\t\t\t\t\t\t\t\t\t\t\t\tカートに入れる\n",
       " \t\t\t\t\t\t\t\t\t\t\t\t\t\t</span>\n",
       " </button>\n",
       " </form>\n",
       " </div>\n",
       " <div class=\"bkmk p-goods-add-cart__favorite\">\n",
       " <form action=\"#\" data-goods-skus=\"action-favorite\" onsubmit=\"return false;\">\n",
       " <button aria-label=\"お気に入りに追加する\" class=\"p-goods-information-action__favorite\" data-goods-action-favorite=\"unregistered\" type=\"submit\">\n",
       " <span aria-hidden=\"true\" class=\"c-icon--heart\"></span>\n",
       " </button>\n",
       " <input name=\"gid\" type=\"hidden\" value=\"87837454\"/>\n",
       " <input name=\"did\" type=\"hidden\" value=\"142436883\"/>\n",
       " <input name=\"zsids\" type=\"hidden\" value=\"3\"/>\n",
       " </form>\n",
       " </div>\n",
       " </div></li>\n",
       " </ul>\n",
       " </dd>\n",
       " </dl>,\n",
       " <dl class=\"p-goods-information-action\" data-color-id=\"38\" data-goods-skus=\"group\">\n",
       " <dt class=\"p-goods-information-action__term\">\n",
       " <button class=\"p-goods-add-cart-thumbnail\" data-cart-section-thumbnail=\"\" data-color-id=\"38\" type=\"button\">\n",
       " <img alt=\"MERCURYDUO（マーキュリーデュオ）の「異素材チュールドッキングオフショルニットワンピース（ワンピース）」｜アイボリー\" class=\"p-goods-add-cart-thumbnail__image\" data-goods-skus=\"img\" src=\"https://c.imgz.jp/454/88837454/88837454b_38_d_35.jpg\"/>\n",
       " </button>\n",
       " <span class=\"txt p-goods-add-cart__color\">アイボリー</span>\n",
       " </dt>\n",
       " <dd class=\"p-goods-information-action__description\">\n",
       " <ul class=\"p-goods-add-cart-list\">\n",
       " <li class=\"p-goods-add-cart-list__item\" data-size=\"S\" data-size-id=\"1\" id=\"cart_did_142436880\"><div class=\"cartbox p-goods-add-cart\">\n",
       " <div class=\"stock p-goods-add-cart__meta noStock\">\n",
       " <p class=\"p-goods-add-cart-stock\"><span>S / </span><span>在庫なし</span></p>\n",
       " <p class=\"zozosize\"><span class=\"p-goods-information-gender-icon --women\"><span aria-hidden=\"true\" class=\"c-icon--women\"></span></span><span class=\"sizeZ\"><span>S</span></span>サイズ相当</p></div>\n",
       " <div class=\"cart p-goods-add-cart__action\">\n",
       " <div class=\"p-goods-information-action__stock-status\">完売しました</div>\n",
       " </div>\n",
       " <div class=\"bkmk p-goods-add-cart__favorite\">\n",
       " <form action=\"#\" data-goods-skus=\"action-favorite\" onsubmit=\"return false;\">\n",
       " <button aria-label=\"お気に入りに追加する\" class=\"p-goods-information-action__favorite\" data-goods-action-favorite=\"unregistered\" type=\"submit\">\n",
       " <span aria-hidden=\"true\" class=\"c-icon--heart\"></span>\n",
       " </button>\n",
       " <input name=\"gid\" type=\"hidden\" value=\"87837454\"/>\n",
       " <input name=\"did\" type=\"hidden\" value=\"142436880\"/>\n",
       " <input name=\"zsids\" type=\"hidden\" value=\"2\"/>\n",
       " </form>\n",
       " </div>\n",
       " </div></li>\n",
       " <li class=\"p-goods-add-cart-list__item\" data-size=\"M\" data-size-id=\"2\" id=\"cart_did_142436881\"><div class=\"cartbox p-goods-add-cart\">\n",
       " <div class=\"stock p-goods-add-cart__meta noStock\">\n",
       " <p class=\"p-goods-add-cart-stock\"><span>M / </span><span>在庫なし</span></p>\n",
       " <p class=\"zozosize\"><span class=\"p-goods-information-gender-icon --women\"><span aria-hidden=\"true\" class=\"c-icon--women\"></span></span><span class=\"sizeZ\"><span>M</span></span>サイズ相当</p></div>\n",
       " <div class=\"cart p-goods-add-cart__action\">\n",
       " <div class=\"p-goods-information-action__stock-status\">完売しました</div>\n",
       " </div>\n",
       " <div class=\"bkmk p-goods-add-cart__favorite\">\n",
       " <form action=\"#\" data-goods-skus=\"action-favorite\" onsubmit=\"return false;\">\n",
       " <button aria-label=\"お気に入りに追加する\" class=\"p-goods-information-action__favorite\" data-goods-action-favorite=\"unregistered\" type=\"submit\">\n",
       " <span aria-hidden=\"true\" class=\"c-icon--heart\"></span>\n",
       " </button>\n",
       " <input name=\"gid\" type=\"hidden\" value=\"87837454\"/>\n",
       " <input name=\"did\" type=\"hidden\" value=\"142436881\"/>\n",
       " <input name=\"zsids\" type=\"hidden\" value=\"3\"/>\n",
       " </form>\n",
       " </div>\n",
       " </div></li>\n",
       " </ul>\n",
       " </dd>\n",
       " </dl>,\n",
       " <dl class=\"p-goods-information-action\" data-color-id=\"34\" data-goods-skus=\"group\">\n",
       " <dt class=\"p-goods-information-action__term\">\n",
       " <button class=\"p-goods-add-cart-thumbnail\" data-cart-section-thumbnail=\"\" data-color-id=\"34\" type=\"button\">\n",
       " <img alt=\"MERCURYDUO（マーキュリーデュオ）の「異素材チュールドッキングオフショルニットワンピース（ワンピース）」｜ブルー\" class=\"p-goods-add-cart-thumbnail__image\" data-goods-skus=\"img\" src=\"https://c.imgz.jp/454/88837454/88837454b_34_d_35.jpg\"/>\n",
       " </button>\n",
       " <span class=\"txt p-goods-add-cart__color\">ブルー</span>\n",
       " </dt>\n",
       " <dd class=\"p-goods-information-action__description\">\n",
       " <ul class=\"p-goods-add-cart-list\">\n",
       " <li class=\"p-goods-add-cart-list__item\" data-size=\"S\" data-size-id=\"1\" id=\"cart_did_142436884\"><div class=\"cartbox p-goods-add-cart\">\n",
       " <div class=\"stock p-goods-add-cart__meta\">\n",
       " <p class=\"p-goods-add-cart-stock\"><span>S / </span><span>残り3点</span></p>\n",
       " <p class=\"zozosize\"><span class=\"p-goods-information-gender-icon --women\"><span aria-hidden=\"true\" class=\"c-icon--women\"></span></span><span class=\"sizeZ\"><span>S</span></span>サイズ相当</p></div>\n",
       " <div class=\"cart p-goods-add-cart__action\">\n",
       " <form action=\"/_cart/default.html\" data-ads-inner-tracking=\"goodscartputclick\" data-goods-skus=\"action-cart\" method=\"post\">\n",
       " <input name=\"c\" type=\"hidden\" value=\"put\"/>\n",
       " <input name=\"sid\" type=\"hidden\" value=\"116347335\"/>\n",
       " <input name=\"rid\" type=\"hidden\" value=\"\"/>\n",
       " <input name=\"p_seckey\" type=\"hidden\" value=\"34c4c467450d91b71fa17d6275d0f0a4\"/>\n",
       " <button class=\"c-button --appearance-primary --width-fluid --height-medium\" type=\"submit\">\n",
       " <span class=\"c-button__label-main\">\n",
       " <span class=\"c-button__label-main-icon\">\n",
       " <span aria-hidden=\"true\" class=\"c-icon--cart\"></span>\n",
       " </span>\n",
       " \t\t\t\t\t\t\t\t\t\t\t\t\t\t\tカートに入れる\n",
       " \t\t\t\t\t\t\t\t\t\t\t\t\t\t</span>\n",
       " </button>\n",
       " </form>\n",
       " </div>\n",
       " <div class=\"bkmk p-goods-add-cart__favorite\">\n",
       " <form action=\"#\" data-goods-skus=\"action-favorite\" onsubmit=\"return false;\">\n",
       " <button aria-label=\"お気に入りに追加する\" class=\"p-goods-information-action__favorite\" data-goods-action-favorite=\"unregistered\" type=\"submit\">\n",
       " <span aria-hidden=\"true\" class=\"c-icon--heart\"></span>\n",
       " </button>\n",
       " <input name=\"gid\" type=\"hidden\" value=\"87837454\"/>\n",
       " <input name=\"did\" type=\"hidden\" value=\"142436884\"/>\n",
       " <input name=\"zsids\" type=\"hidden\" value=\"2\"/>\n",
       " </form>\n",
       " </div>\n",
       " </div></li>\n",
       " <li class=\"p-goods-add-cart-list__item\" data-size=\"M\" data-size-id=\"2\" id=\"cart_did_142436885\"><div class=\"cartbox p-goods-add-cart\">\n",
       " <div class=\"stock p-goods-add-cart__meta noStock\">\n",
       " <p class=\"p-goods-add-cart-stock\"><span>M / </span><span>在庫なし</span></p>\n",
       " <p class=\"zozosize\"><span class=\"p-goods-information-gender-icon --women\"><span aria-hidden=\"true\" class=\"c-icon--women\"></span></span><span class=\"sizeZ\"><span>M</span></span>サイズ相当</p></div>\n",
       " <div class=\"cart p-goods-add-cart__action\">\n",
       " <button class=\"c-button --appearance-primary-outline --width-fluid --height-medium\" data-color-id=\"34\" data-goods-id=\"87837454\" data-is-shop-goods-ropis=\"\" data-size-id=\"2\">\n",
       " <span class=\"c-button__label-main\">\n",
       " \t\t\t\t\t\t\t\t\t\t\t\t\t\t\t\t店舗在庫を見る\n",
       " \t\t\t\t\t\t\t\t\t\t\t\t\t\t\t</span>\n",
       " </button>\n",
       " </div>\n",
       " <div class=\"bkmk p-goods-add-cart__favorite\">\n",
       " <form action=\"#\" data-goods-skus=\"action-favorite\" onsubmit=\"return false;\">\n",
       " <button aria-label=\"お気に入りに追加する\" class=\"p-goods-information-action__favorite\" data-goods-action-favorite=\"unregistered\" type=\"submit\">\n",
       " <span aria-hidden=\"true\" class=\"c-icon--heart\"></span>\n",
       " </button>\n",
       " <input name=\"gid\" type=\"hidden\" value=\"87837454\"/>\n",
       " <input name=\"did\" type=\"hidden\" value=\"142436885\"/>\n",
       " <input name=\"zsids\" type=\"hidden\" value=\"3\"/>\n",
       " </form>\n",
       " </div>\n",
       " </div></li>\n",
       " </ul>\n",
       " </dd>\n",
       " </dl>]"
      ]
     },
     "execution_count": 44,
     "metadata": {},
     "output_type": "execute_result"
    }
   ],
   "source": [
    "color_dl"
   ]
  },
  {
   "cell_type": "code",
   "execution_count": null,
   "metadata": {},
   "outputs": [],
   "source": []
  }
 ],
 "metadata": {
  "kernelspec": {
   "display_name": "shopping-alert",
   "language": "python",
   "name": "python3"
  },
  "language_info": {
   "codemirror_mode": {
    "name": "ipython",
    "version": 3
   },
   "file_extension": ".py",
   "mimetype": "text/x-python",
   "name": "python",
   "nbconvert_exporter": "python",
   "pygments_lexer": "ipython3",
   "version": "3.12.7"
  }
 },
 "nbformat": 4,
 "nbformat_minor": 2
}
