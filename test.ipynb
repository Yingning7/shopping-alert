{
 "cells": [
  {
   "cell_type": "code",
   "execution_count": 1,
   "metadata": {},
   "outputs": [],
   "source": [
    "from bs4 import BeautifulSoup"
   ]
  },
  {
   "cell_type": "code",
   "execution_count": 2,
   "metadata": {},
   "outputs": [],
   "source": [
    "with open('page.html', 'r', encoding='utf-8') as f:\n",
    "    html_content = f.read()"
   ]
  },
  {
   "cell_type": "code",
   "execution_count": 12,
   "metadata": {},
   "outputs": [],
   "source": [
    "soup = BeautifulSoup(html_content, features='html.parser')"
   ]
  },
  {
   "cell_type": "code",
   "execution_count": 13,
   "metadata": {},
   "outputs": [
    {
     "data": {
      "text/plain": [
       "'MERCURYDUO'"
      ]
     },
     "execution_count": 13,
     "metadata": {},
     "output_type": "execute_result"
    }
   ],
   "source": [
    "brand = soup.find('div', {'class': 'p-goods-information-brand-link__label'}).text.strip()\n",
    "brand"
   ]
  },
  {
   "cell_type": "code",
   "execution_count": 14,
   "metadata": {},
   "outputs": [
    {
     "data": {
      "text/plain": [
       "'異素材チュールドッキングオフショルニットワンピース'"
      ]
     },
     "execution_count": 14,
     "metadata": {},
     "output_type": "execute_result"
    }
   ],
   "source": [
    "name = soup.find('h1', {'class':'p-goods-information__heading'}).text.strip()\n",
    "name"
   ]
  },
  {
   "cell_type": "code",
   "execution_count": 17,
   "metadata": {},
   "outputs": [],
   "source": [
    "if soup.find('div', {'class':'p-goods-information__price'}):\n",
    "    original_price = soup.find('div', {'class':'p-goods-information__price'}).text.replace('¥', '').replace('税込', '').replace(',', '').strip()\n",
    "    current_price = original_price\n",
    "else:\n",
    "    original_price = soup.find('span', {'class': 'u-text-style-strike'}).text.replace('¥', '').replace(',', '').strip()\n",
    "    current_price = soup.find('div', {'class': 'p-goods-information__price--discount'}).text.replace('¥', '').replace('税込', '').replace(',', '').strip()\n",
    "currency = 'JPY'"
   ]
  },
  {
   "cell_type": "code",
   "execution_count": 18,
   "metadata": {},
   "outputs": [
    {
     "data": {
      "text/plain": [
       "'13000'"
      ]
     },
     "execution_count": 18,
     "metadata": {},
     "output_type": "execute_result"
    }
   ],
   "source": [
    "current_price"
   ]
  },
  {
   "cell_type": "code",
   "execution_count": 19,
   "metadata": {},
   "outputs": [
    {
     "data": {
      "text/plain": [
       "'18480'"
      ]
     },
     "execution_count": 19,
     "metadata": {},
     "output_type": "execute_result"
    }
   ],
   "source": [
    "original_price"
   ]
  },
  {
   "cell_type": "code",
   "execution_count": 20,
   "metadata": {},
   "outputs": [],
   "source": [
    "color_dls = soup.find_all('dl', {'class': 'p-goods-information-action'})"
   ]
  },
  {
   "cell_type": "code",
   "execution_count": 21,
   "metadata": {},
   "outputs": [],
   "source": [
    "data = []\n",
    "for color_dl in color_dls:\n",
    "    color = color_dl.find('span', {'class': 'txt p-goods-add-cart__color'}).text.strip()\n",
    "    spec_lis = color_dl.find_all('li')\n",
    "    for spec_li in spec_lis:\n",
    "        text = spec_li.find('p',{'class': 'p-goods-add-cart-stock'}).text.strip()\n",
    "        parts = text.split('\\xa0/\\xa0')\n",
    "        size = parts[0]\n",
    "        status = parts[1]\n",
    "        data.append(\n",
    "                {\n",
    "                    'name': name,\n",
    "                    'brand': brand,\n",
    "                    'original_price': original_price,\n",
    "                    'current_price': current_price,\n",
    "                    'currency': currency,\n",
    "                    'color': color,\n",
    "                    'size': size,\n",
    "                    'status': status\n",
    "                }\n",
    "            )\n",
    "\n",
    "\n",
    "    "
   ]
  },
  {
   "cell_type": "code",
   "execution_count": 22,
   "metadata": {},
   "outputs": [
    {
     "data": {
      "text/plain": [
       "[{'name': '異素材チュールドッキングオフショルニットワンピース',\n",
       "  'brand': 'MERCURYDUO',\n",
       "  'original_price': '18480',\n",
       "  'current_price': '13000',\n",
       "  'currency': 'JPY',\n",
       "  'color': 'ブラック',\n",
       "  'size': 'S',\n",
       "  'status': '在庫あり'},\n",
       " {'name': '異素材チュールドッキングオフショルニットワンピース',\n",
       "  'brand': 'MERCURYDUO',\n",
       "  'original_price': '18480',\n",
       "  'current_price': '13000',\n",
       "  'currency': 'JPY',\n",
       "  'color': 'ブラック',\n",
       "  'size': 'M',\n",
       "  'status': '在庫あり'},\n",
       " {'name': '異素材チュールドッキングオフショルニットワンピース',\n",
       "  'brand': 'MERCURYDUO',\n",
       "  'original_price': '18480',\n",
       "  'current_price': '13000',\n",
       "  'currency': 'JPY',\n",
       "  'color': 'アイボリー',\n",
       "  'size': 'S',\n",
       "  'status': '在庫なし'},\n",
       " {'name': '異素材チュールドッキングオフショルニットワンピース',\n",
       "  'brand': 'MERCURYDUO',\n",
       "  'original_price': '18480',\n",
       "  'current_price': '13000',\n",
       "  'currency': 'JPY',\n",
       "  'color': 'アイボリー',\n",
       "  'size': 'M',\n",
       "  'status': '在庫なし'},\n",
       " {'name': '異素材チュールドッキングオフショルニットワンピース',\n",
       "  'brand': 'MERCURYDUO',\n",
       "  'original_price': '18480',\n",
       "  'current_price': '13000',\n",
       "  'currency': 'JPY',\n",
       "  'color': 'ブルー',\n",
       "  'size': 'S',\n",
       "  'status': '在庫あり'},\n",
       " {'name': '異素材チュールドッキングオフショルニットワンピース',\n",
       "  'brand': 'MERCURYDUO',\n",
       "  'original_price': '18480',\n",
       "  'current_price': '13000',\n",
       "  'currency': 'JPY',\n",
       "  'color': 'ブルー',\n",
       "  'size': 'M',\n",
       "  'status': '残り3点'}]"
      ]
     },
     "execution_count": 22,
     "metadata": {},
     "output_type": "execute_result"
    }
   ],
   "source": [
    "data"
   ]
  },
  {
   "cell_type": "code",
   "execution_count": null,
   "metadata": {},
   "outputs": [],
   "source": []
  }
 ],
 "metadata": {
  "kernelspec": {
   "display_name": "shopping-alert",
   "language": "python",
   "name": "python3"
  },
  "language_info": {
   "codemirror_mode": {
    "name": "ipython",
    "version": 3
   },
   "file_extension": ".py",
   "mimetype": "text/x-python",
   "name": "python",
   "nbconvert_exporter": "python",
   "pygments_lexer": "ipython3",
   "version": "3.12.7"
  }
 },
 "nbformat": 4,
 "nbformat_minor": 2
}
